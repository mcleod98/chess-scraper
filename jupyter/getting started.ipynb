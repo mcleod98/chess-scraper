{
 "cells": [
  {
   "cell_type": "markdown",
   "id": "76ab16f4",
   "metadata": {},
   "source": [
    "# Getting Started\n",
    "### Running the Database"
   ]
  },
  {
   "cell_type": "markdown",
   "id": "b6e539c3",
   "metadata": {},
   "source": [
    "Install Docker, then start the Postgresql container by navigating to the project main directory and running\n",
    "\n",
    "```docker compose up```\n"
   ]
  },
  {
   "cell_type": "markdown",
   "id": "959cddef",
   "metadata": {},
   "source": [
    "### Configuring the environment\n",
    "\n",
    "Activate the provided pipenv environment by navigating to the project directory and running\n",
    "\n",
    "```pipenv shell```\n",
    "\n",
    "Then configure the following environment variables for the database connection: \n",
    "-  POSTGRES_USER: default='postgres'\n",
    "-  POSTGRES_PASSWORD: default='password'\n",
    "-  POSTGRES_DB: default='postgres')\n",
    "-  POSTGRES_HOST: default='localhost'\n",
    "-  POSTGRES_PORT: default=5432\n",
    "     \n",
    "The following account details must be configured for your personal chess login\n",
    "-  ACCOUNT_NAME : your chess site account name\n",
    "-  ACCOUNT_PASSWORD : your account password"
   ]
  },
  {
   "cell_type": "markdown",
   "id": "9dbf0079",
   "metadata": {},
   "source": [
    "## Creating Database\n",
    "\n",
    "In addition to configuring environment variables and running the dockerized postgres server, you need to create initial database tables.\n",
    "\n",
    "Run ```python ./app/cli.py dbinit``` but beware that this will delete the existing database"
   ]
  },
  {
   "cell_type": "markdown",
   "id": "665245c8",
   "metadata": {},
   "source": [
    "### Running the Scraper (Command line)\n",
    "\n",
    "Activate pipenv environment and set environment variables.\n",
    "\n",
    "To download game files, run the following from the main project folder\n",
    "\n",
    "```python ./app/cli.py scrape```\n",
    "\n",
    "To parse the downloaded files, run\n",
    "\n",
    "```python ./app/cli.py parse```\n",
    "\n"
   ]
  },
  {
   "cell_type": "markdown",
   "id": "44a5c92d",
   "metadata": {},
   "source": [
    "### Run from Jupyter (Alternative to command line)\n",
    "\n",
    "Activate pipenv shell and run \n",
    "\n",
    "```jupyter notebook```\n",
    "\n",
    "See template.ipynb for example of importing model and scraper files and connecting to the database"
   ]
  }
 ],
 "metadata": {
  "kernelspec": {
   "display_name": "Python 3 (ipykernel)",
   "language": "python",
   "name": "python3"
  },
  "language_info": {
   "codemirror_mode": {
    "name": "ipython",
    "version": 3
   },
   "file_extension": ".py",
   "mimetype": "text/x-python",
   "name": "python",
   "nbconvert_exporter": "python",
   "pygments_lexer": "ipython3",
   "version": "3.9.15"
  },
  "varInspector": {
   "cols": {
    "lenName": 16,
    "lenType": 16,
    "lenVar": 40
   },
   "kernels_config": {
    "python": {
     "delete_cmd_postfix": "",
     "delete_cmd_prefix": "del ",
     "library": "var_list.py",
     "varRefreshCmd": "print(var_dic_list())"
    },
    "r": {
     "delete_cmd_postfix": ") ",
     "delete_cmd_prefix": "rm(",
     "library": "var_list.r",
     "varRefreshCmd": "cat(var_dic_list()) "
    }
   },
   "types_to_exclude": [
    "module",
    "function",
    "builtin_function_or_method",
    "instance",
    "_Feature"
   ],
   "window_display": false
  }
 },
 "nbformat": 4,
 "nbformat_minor": 5
}
