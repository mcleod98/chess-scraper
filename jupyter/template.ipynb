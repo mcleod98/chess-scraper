{
 "cells": [
  {
   "cell_type": "markdown",
   "id": "16bbef41",
   "metadata": {},
   "source": [
    "# Template for Analysis\n"
   ]
  },
  {
   "cell_type": "markdown",
   "id": "d932b2be",
   "metadata": {},
   "source": [
    "### Imports and setup"
   ]
  },
  {
   "cell_type": "code",
   "execution_count": 2,
   "id": "ff866114",
   "metadata": {},
   "outputs": [],
   "source": [
    "import os, sys\n",
    "pth = os.getcwd()\n",
    "pth = pth.split('/jupyter')[0] + '/app'\n",
    "sys.path.insert(0, pth)\n",
    "\n",
    "import scraper, parser, config, db, models\n",
    "import chess, chess.pgn\n",
    "import numpy as np\n",
    "from sqlalchemy import func\n",
    "from sqlalchemy.sql import text\n",
    "import pandas as pd"
   ]
  },
  {
   "cell_type": "markdown",
   "id": "2fd8cfe6",
   "metadata": {},
   "source": [
    "### configure environment variables\n"
   ]
  },
  {
   "cell_type": "code",
   "execution_count": null,
   "id": "b33e969c",
   "metadata": {},
   "outputs": [],
   "source": [
    "#Account configuration, this is mandatory\n",
    "os.environ['ACCOUNT_NAME'] = 'myaccount'\n",
    "os.environ['ACCOUNT_PASSWORD'] = 'mypassword'\n",
    "\n",
    "#DB Configuration\n",
    "os.environ[\"POSTGRES_USER\"] = 'postgres'\n",
    "os.environ[\"POSTGRES_PASSWORD\"] = 'password'\n",
    "os.environ[\"POSTGRES_DB\"] = 'postgres'\n",
    "os.environ[\"POSTGRES_HOST\"] = 'localhost'\n",
    "os.environ[\"POSTGRES_PORT\"] = '5432'\n",
    "\n",
    "#os.environ[\"DOWNLOAD_PATH\"]\n",
    "os.environ[\"START_DATE\"] = '07/01/2023'\n",
    "os.environ[\"END_DATE\"] = '07/28/2023'\n"
   ]
  },
  {
   "cell_type": "markdown",
   "id": "a8e8f44a",
   "metadata": {},
   "source": [
    "### Parse environment variables and initialize database connection"
   ]
  },
  {
   "cell_type": "code",
   "execution_count": 3,
   "id": "772dedb0",
   "metadata": {},
   "outputs": [],
   "source": [
    "conf = config.Config()\n",
    "session = db.get_session(conf)"
   ]
  },
  {
   "cell_type": "markdown",
   "id": "f74e1dc6",
   "metadata": {},
   "source": [
    "# Interacting with the Database\n",
    "\n",
    "## Example: Database Tables"
   ]
  },
  {
   "cell_type": "code",
   "execution_count": 17,
   "id": "980c53d3",
   "metadata": {},
   "outputs": [
    {
     "name": "stdout",
     "output_type": "stream",
     "text": [
      "id: 1\n",
      "my_elo: 888\n",
      "opp_elo: 1044\n",
      "result: W\n",
      "ending: resignation\n",
      "white: False\n",
      "op_name: YourWaaayTooSlowBrah\n",
      "date_played: 2020-09-11 21:55:47\n",
      "timecontrol: 120+1\n"
     ]
    }
   ],
   "source": [
    "game = session.query(models.GameRecord).first()\n",
    "game_columns = models.GameRecord.__table__.columns.keys()\n",
    "for col in game_columns:\n",
    "    print(f'{col}: {getattr(game, col, None)}')"
   ]
  },
  {
   "cell_type": "code",
   "execution_count": 15,
   "id": "79dfc796",
   "metadata": {},
   "outputs": [
    {
     "name": "stdout",
     "output_type": "stream",
     "text": [
      "id: 1\n",
      "game_id: 1\n",
      "movenumber: 1\n",
      "move: e4\n"
     ]
    }
   ],
   "source": [
    "move = game.moves[0]\n",
    "move_columns = models.Move.__table__.columns.keys()\n",
    "for col in move_columns:\n",
    "    print(f'{col}: {getattr(move, col, None)}')"
   ]
  },
  {
   "cell_type": "code",
   "execution_count": 18,
   "id": "71fba15e",
   "metadata": {},
   "outputs": [
    {
     "name": "stdout",
     "output_type": "stream",
     "text": [
      "id: 1\n",
      "filename: 216.pgn\n"
     ]
    }
   ],
   "source": [
    "dl = session.query(models.Download).first()\n",
    "dl_columns = models.Download.__table__.columns.keys()\n",
    "for col in dl_columns:\n",
    "    print(f'{col}: {getattr(dl, col, None)}')"
   ]
  },
  {
   "cell_type": "markdown",
   "id": "1704a5d8",
   "metadata": {},
   "source": [
    "## Example: Querying and Pandas\n",
    "### Time Control Groups\n",
    "\n",
    "Ratings are grouped into 'bullet', 'blitz', and 'rapid', with multiple different time controls falling in each group. Following queries find results for each group"
   ]
  },
  {
   "cell_type": "code",
   "execution_count": 80,
   "id": "10cd0aed",
   "metadata": {},
   "outputs": [],
   "source": [
    "bullet = session.query(models.GameRecord).where(models.GameRecord.timecontrol.in_(['60', '60+1', '120+1']))\n",
    "blitz = session.query(models.GameRecord).where(models.GameRecord.timecontrol.in_(['180', '180+2', '300']))\n",
    "rapid = session.query(models.GameRecord).where(models.GameRecord.timecontrol.in_(['600', '900+10', '1800']))\n",
    "allforms = session.query(models.GameRecord)"
   ]
  },
  {
   "cell_type": "code",
   "execution_count": 81,
   "id": "bbddf6a9",
   "metadata": {},
   "outputs": [
    {
     "data": {
      "text/html": [
       "<div>\n",
       "<style scoped>\n",
       "    .dataframe tbody tr th:only-of-type {\n",
       "        vertical-align: middle;\n",
       "    }\n",
       "\n",
       "    .dataframe tbody tr th {\n",
       "        vertical-align: top;\n",
       "    }\n",
       "\n",
       "    .dataframe thead th {\n",
       "        text-align: right;\n",
       "    }\n",
       "</style>\n",
       "<table border=\"1\" class=\"dataframe\">\n",
       "  <thead>\n",
       "    <tr style=\"text-align: right;\">\n",
       "      <th></th>\n",
       "      <th>id</th>\n",
       "      <th>my_elo</th>\n",
       "      <th>opp_elo</th>\n",
       "      <th>result</th>\n",
       "      <th>ending</th>\n",
       "      <th>white</th>\n",
       "      <th>op_name</th>\n",
       "      <th>date_played</th>\n",
       "      <th>timecontrol</th>\n",
       "    </tr>\n",
       "  </thead>\n",
       "  <tbody>\n",
       "    <tr>\n",
       "      <th>0</th>\n",
       "      <td>292</td>\n",
       "      <td>1479</td>\n",
       "      <td>1247</td>\n",
       "      <td>W</td>\n",
       "      <td>time</td>\n",
       "      <td>True</td>\n",
       "      <td>slawekkoenig</td>\n",
       "      <td>2021-03-03 13:48:19</td>\n",
       "      <td>600</td>\n",
       "    </tr>\n",
       "    <tr>\n",
       "      <th>1</th>\n",
       "      <td>293</td>\n",
       "      <td>1471</td>\n",
       "      <td>1500</td>\n",
       "      <td>L</td>\n",
       "      <td>resignation</td>\n",
       "      <td>False</td>\n",
       "      <td>bazrsad08</td>\n",
       "      <td>2021-03-03 13:57:33</td>\n",
       "      <td>600</td>\n",
       "    </tr>\n",
       "    <tr>\n",
       "      <th>2</th>\n",
       "      <td>294</td>\n",
       "      <td>1474</td>\n",
       "      <td>1224</td>\n",
       "      <td>W</td>\n",
       "      <td>resignation</td>\n",
       "      <td>False</td>\n",
       "      <td>Jenda95</td>\n",
       "      <td>2021-03-03 14:00:11</td>\n",
       "      <td>600</td>\n",
       "    </tr>\n",
       "    <tr>\n",
       "      <th>3</th>\n",
       "      <td>295</td>\n",
       "      <td>1466</td>\n",
       "      <td>1481</td>\n",
       "      <td>L</td>\n",
       "      <td>time</td>\n",
       "      <td>False</td>\n",
       "      <td>HalilSaracHS</td>\n",
       "      <td>2021-03-03 14:18:17</td>\n",
       "      <td>600</td>\n",
       "    </tr>\n",
       "    <tr>\n",
       "      <th>4</th>\n",
       "      <td>296</td>\n",
       "      <td>1469</td>\n",
       "      <td>1238</td>\n",
       "      <td>W</td>\n",
       "      <td>resignation</td>\n",
       "      <td>False</td>\n",
       "      <td>Slobodan1981</td>\n",
       "      <td>2021-03-03 14:20:12</td>\n",
       "      <td>600</td>\n",
       "    </tr>\n",
       "  </tbody>\n",
       "</table>\n",
       "</div>"
      ],
      "text/plain": [
       "    id  my_elo  opp_elo result       ending  white       op_name   \n",
       "0  292    1479     1247      W         time   True  slawekkoenig  \\\n",
       "1  293    1471     1500      L  resignation  False     bazrsad08   \n",
       "2  294    1474     1224      W  resignation  False       Jenda95   \n",
       "3  295    1466     1481      L         time  False  HalilSaracHS   \n",
       "4  296    1469     1238      W  resignation  False  Slobodan1981   \n",
       "\n",
       "          date_played timecontrol  \n",
       "0 2021-03-03 13:48:19         600  \n",
       "1 2021-03-03 13:57:33         600  \n",
       "2 2021-03-03 14:00:11         600  \n",
       "3 2021-03-03 14:18:17         600  \n",
       "4 2021-03-03 14:20:12         600  "
      ]
     },
     "execution_count": 81,
     "metadata": {},
     "output_type": "execute_result"
    }
   ],
   "source": [
    "df_rapid = pd.read_sql(rapid.statement, session.bind)\n",
    "df_blitz = pd.read_sql(blitz.statement, session.bind)\n",
    "df_bullet = pd.read_sql(bullet.statement, session.bind)\n",
    "df_all = pd.read_sql(allforms.statement, session.bind)\n",
    "df_rapid.head(5)"
   ]
  },
  {
   "cell_type": "markdown",
   "id": "9fd05306",
   "metadata": {},
   "source": [
    "Reindex by date_played"
   ]
  },
  {
   "cell_type": "code",
   "execution_count": 82,
   "id": "0c0d872d",
   "metadata": {},
   "outputs": [
    {
     "data": {
      "text/html": [
       "<div>\n",
       "<style scoped>\n",
       "    .dataframe tbody tr th:only-of-type {\n",
       "        vertical-align: middle;\n",
       "    }\n",
       "\n",
       "    .dataframe tbody tr th {\n",
       "        vertical-align: top;\n",
       "    }\n",
       "\n",
       "    .dataframe thead th {\n",
       "        text-align: right;\n",
       "    }\n",
       "</style>\n",
       "<table border=\"1\" class=\"dataframe\">\n",
       "  <thead>\n",
       "    <tr style=\"text-align: right;\">\n",
       "      <th></th>\n",
       "      <th>id</th>\n",
       "      <th>my_elo</th>\n",
       "      <th>opp_elo</th>\n",
       "      <th>result</th>\n",
       "      <th>ending</th>\n",
       "      <th>white</th>\n",
       "      <th>op_name</th>\n",
       "      <th>date_played</th>\n",
       "      <th>timecontrol</th>\n",
       "    </tr>\n",
       "  </thead>\n",
       "  <tbody>\n",
       "    <tr>\n",
       "      <th>0</th>\n",
       "      <td>5851</td>\n",
       "      <td>1162</td>\n",
       "      <td>838</td>\n",
       "      <td>W</td>\n",
       "      <td>checkmate</td>\n",
       "      <td>True</td>\n",
       "      <td>yiyi14</td>\n",
       "      <td>2020-05-20 19:52:38</td>\n",
       "      <td>600</td>\n",
       "    </tr>\n",
       "    <tr>\n",
       "      <th>1</th>\n",
       "      <td>5852</td>\n",
       "      <td>1011</td>\n",
       "      <td>1149</td>\n",
       "      <td>L</td>\n",
       "      <td>resignation</td>\n",
       "      <td>False</td>\n",
       "      <td>jerst458</td>\n",
       "      <td>2020-05-20 20:09:43</td>\n",
       "      <td>600</td>\n",
       "    </tr>\n",
       "    <tr>\n",
       "      <th>2</th>\n",
       "      <td>5853</td>\n",
       "      <td>928</td>\n",
       "      <td>1176</td>\n",
       "      <td>L</td>\n",
       "      <td>resignation</td>\n",
       "      <td>False</td>\n",
       "      <td>SmoggyMink</td>\n",
       "      <td>2020-05-20 20:22:23</td>\n",
       "      <td>600</td>\n",
       "    </tr>\n",
       "    <tr>\n",
       "      <th>3</th>\n",
       "      <td>5854</td>\n",
       "      <td>1008</td>\n",
       "      <td>837</td>\n",
       "      <td>W</td>\n",
       "      <td>time</td>\n",
       "      <td>True</td>\n",
       "      <td>HK465</td>\n",
       "      <td>2020-05-20 20:40:54</td>\n",
       "      <td>600</td>\n",
       "    </tr>\n",
       "    <tr>\n",
       "      <th>4</th>\n",
       "      <td>5855</td>\n",
       "      <td>1003</td>\n",
       "      <td>984</td>\n",
       "      <td>None</td>\n",
       "      <td>draw</td>\n",
       "      <td>True</td>\n",
       "      <td>HITHOR</td>\n",
       "      <td>2020-05-20 20:54:31</td>\n",
       "      <td>600</td>\n",
       "    </tr>\n",
       "  </tbody>\n",
       "</table>\n",
       "</div>"
      ],
      "text/plain": [
       "     id  my_elo  opp_elo result       ending  white     op_name   \n",
       "0  5851    1162      838      W    checkmate   True      yiyi14  \\\n",
       "1  5852    1011     1149      L  resignation  False    jerst458   \n",
       "2  5853     928     1176      L  resignation  False  SmoggyMink   \n",
       "3  5854    1008      837      W         time   True       HK465   \n",
       "4  5855    1003      984   None         draw   True      HITHOR   \n",
       "\n",
       "          date_played timecontrol  \n",
       "0 2020-05-20 19:52:38         600  \n",
       "1 2020-05-20 20:09:43         600  \n",
       "2 2020-05-20 20:22:23         600  \n",
       "3 2020-05-20 20:40:54         600  \n",
       "4 2020-05-20 20:54:31         600  "
      ]
     },
     "execution_count": 82,
     "metadata": {},
     "output_type": "execute_result"
    }
   ],
   "source": [
    "df_rapid = df_rapid.sort_values(by='date_played')\n",
    "df_rapid = df_rapid.set_axis(range(len(df_rapid)))\n",
    "df_rapid.head(5)"
   ]
  },
  {
   "cell_type": "code",
   "execution_count": 83,
   "id": "1721b950",
   "metadata": {},
   "outputs": [
    {
     "name": "stdout",
     "output_type": "stream",
     "text": [
      "Time control: 120+1, Peak elo: 1129\n",
      "Time control: 180+2, Peak elo: 1301\n",
      "Time control: 300, Peak elo: 1001\n",
      "Time control: 60, Peak elo: 1029\n",
      "Time control: 60+1, Peak elo: 1123\n",
      "Time control: 600, Peak elo: 1722\n",
      "Time control: 900+10, Peak elo: 1290\n"
     ]
    }
   ],
   "source": [
    "g = df_all.groupby('timecontrol')\n",
    "for timecontrol, groupdf in g:\n",
    "    print(f'Time control: {timecontrol}, Peak elo: {groupdf.loc[:,\"my_elo\"].max()}')"
   ]
  },
  {
   "cell_type": "markdown",
   "id": "a17ebeef",
   "metadata": {},
   "source": [
    "# Plotting\n",
    "The discontinuities in the elo vs time and elo vs game played graphs make more sense when presented side by side. \n",
    "The large jumps in elo coincide with returns from long absences from playing rapid, during which I was getting bettr in other formats."
   ]
  },
  {
   "cell_type": "code",
   "execution_count": 89,
   "id": "ef702a71",
   "metadata": {},
   "outputs": [
    {
     "data": {
      "text/plain": [
       "<Axes: >"
      ]
     },
     "execution_count": 89,
     "metadata": {},
     "output_type": "execute_result"
    },
    {
     "data": {
      "image/png": "[encoded data removed]",
      "text/plain": [
       "<Figure size 640x480 with 1 Axes>"
      ]
     },
     "metadata": {},
     "output_type": "display_data"
    },
    {
     "data": {
      "image/png": "[encoded data removed]",
      "text/plain": [
       "<Figure size 640x480 with 1 Axes>"
      ]
     },
     "metadata": {},
     "output_type": "display_data"
    }
   ],
   "source": [
    "df_rapid = pd.read_sql(rapid.statement, session.bind)\n",
    "df_rapid.plot(x='date_played', y='my_elo')\n",
    "df_rapid = df_rapid.sort_values(by='date_played')\n",
    "df_rapid = df_rapid.set_axis(range(len(df_rapid)))\n",
    "df_rapid.plot(y='my_elo')"
   ]
  },
  {
   "cell_type": "markdown",
   "id": "3ddb8385",
   "metadata": {},
   "source": []
  }
 ],
 "metadata": {
  "kernelspec": {
   "display_name": "Python 3 (ipykernel)",
   "language": "python",
   "name": "python3"
  },
  "language_info": {
   "codemirror_mode": {
    "name": "ipython",
    "version": 3
   },
   "file_extension": ".py",
   "mimetype": "text/x-python",
   "name": "python",
   "nbconvert_exporter": "python",
   "pygments_lexer": "ipython3",
   "version": "3.9.15"
  }
 },
 "nbformat": 4,
 "nbformat_minor": 5
}
